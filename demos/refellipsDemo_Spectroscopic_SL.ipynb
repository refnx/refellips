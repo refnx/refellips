{
 "cells": [
  {
   "cell_type": "markdown",
   "metadata": {},
   "source": [
    "# refellips demo: Solid/Liquid\n",
    "This demo presents an example use case for fitting multi-wavelength single-angle ellipsometry data for solid-liquid systems with refellips."
   ]
  },
  {
   "cell_type": "code",
   "execution_count": 1,
   "metadata": {},
   "outputs": [],
   "source": [
    "%matplotlib inline\n",
    "%load_ext autoreload\n",
    "%autoreload 2"
   ]
  },
  {
   "cell_type": "code",
   "execution_count": 2,
   "metadata": {},
   "outputs": [],
   "source": [
    "import sys\n",
    "import os\n",
    "import numpy as np\n",
    "import pandas as pd\n",
    "import matplotlib.pyplot as plt\n",
    "import glob\n",
    "from refnx.analysis import CurveFitter\n",
    "from refnx.reflect import Slab"
   ]
  },
  {
   "cell_type": "code",
   "execution_count": 3,
   "metadata": {},
   "outputs": [],
   "source": [
    "from refellips.dataSE import DataSE, open_EP4file\n",
    "from refellips import ObjectiveSE, RI, Cauchy, load_material, ReflectModelSE"
   ]
  },
  {
   "cell_type": "markdown",
   "metadata": {},
   "source": [
    "### Import data"
   ]
  },
  {
   "cell_type": "code",
   "execution_count": null,
   "metadata": {},
   "outputs": [],
   "source": [
    "dname = 'WVASE_example_2nmSiO2_100nmPNIPAM_MultiWavelength_Water.dat'\n",
    "data = DataSE(data=dname)"
   ]
  },
  {
   "cell_type": "markdown",
   "metadata": {},
   "source": [
    "### Build model"
   ]
  },
  {
   "cell_type": "code",
   "execution_count": null,
   "metadata": {},
   "outputs": [],
   "source": [
    "from refnx.reflect import Linear, Erf\n",
    "\n",
    "si = load_material(\"silicon\")\n",
    "sio2 = load_material(\"silica\")\n",
    "PNIPAM = load_material(\"pnipam\")\n",
    "h2o = load_material(\"water\")\n",
    "\n",
    "PNIPAM_layer = PNIPAM(1000)\n",
    "PNIPAM_layer.thick.setp(vary=True, bounds=(100,1500))\n",
    "PNIPAM_layer.vfsolv.setp(vary=True, value=0.8, bounds=(0.1,1))\n",
    "PNIPAM_layer.rough.setp(vary=True, value=100, bounds=(50,300))\n",
    "PNIPAM_layer.interfaces = Erf()\n",
    "\n",
    "struc = h2o() | PNIPAM_layer | sio2(20) | si()\n",
    "struc.contract = 2\n",
    "struc.solvent= h2o\n",
    "\n",
    "model = ReflectModelSE(struc)\n",
    "model.delta_offset.setp(value=0, vary=True, bounds=(-10,10))"
   ]
  },
  {
   "cell_type": "markdown",
   "metadata": {},
   "source": [
    "# Fitting experimental data\n",
    "\n",
    "### Model & data pre fit"
   ]
  },
  {
   "cell_type": "code",
   "execution_count": null,
   "metadata": {},
   "outputs": [],
   "source": [
    "fig, ax = plt.subplots()\n",
    "axt = ax.twinx()\n",
    "\n",
    "wavelength_aois = np.c_[data.wavelength, data.aoi]\n",
    "psi, delta = model(wavelength_aois)\n",
    "\n",
    "ax.scatter(data.wavelength, data.psi, color='r')\n",
    "axt.scatter(data.wavelength, data.delta, color='b')\n",
    "\n",
    "ax.plot(data.wavelength, psi, color='r')\n",
    "axt.plot(data.wavelength, delta, color='b')\n",
    "\n",
    "ax.set(ylabel='Psi', xlabel='Wavelength (nm)')\n",
    "axt.set(ylabel='Delta')"
   ]
  },
  {
   "cell_type": "code",
   "execution_count": null,
   "metadata": {},
   "outputs": [],
   "source": [
    "objective = ObjectiveSE(model, data)"
   ]
  },
  {
   "cell_type": "code",
   "execution_count": null,
   "metadata": {},
   "outputs": [],
   "source": [
    "fitter = CurveFitter(objective)\n",
    "fitter.fit(method='least_squares');"
   ]
  },
  {
   "cell_type": "markdown",
   "metadata": {},
   "source": [
    "### Model & data post fit"
   ]
  },
  {
   "cell_type": "code",
   "execution_count": null,
   "metadata": {},
   "outputs": [],
   "source": [
    "fig, ax = plt.subplots()\n",
    "axt = ax.twinx()\n",
    "\n",
    "wavelength_aois = np.c_[data.wavelength, data.aoi]\n",
    "psi, delta = model(wavelength_aois)\n",
    "\n",
    "p = ax.scatter(data.wavelength, data.psi, color='r')\n",
    "d = axt.scatter(data.wavelength, data.delta, color='b')\n",
    "\n",
    "ax.plot(data.wavelength, psi, color='r')\n",
    "axt.plot(data.wavelength, delta, color='b')\n",
    "\n",
    "ax.legend(handles=[p,d], labels=['Psi', 'Delta'])\n",
    "ax.set(ylabel='Psi', xlabel='Wavelength, nm')\n",
    "axt.set(ylabel='Delta')"
   ]
  },
  {
   "cell_type": "markdown",
   "metadata": {},
   "source": [
    "### Refractive index profile"
   ]
  },
  {
   "cell_type": "code",
   "execution_count": null,
   "metadata": {},
   "outputs": [],
   "source": [
    "fig, ax = plt.subplots()\n",
    "struc.reverse_structure = True\n",
    "ax.plot(*struc.ri_profile())\n",
    "struc.reverse_structure = False\n",
    "ax.set_ybound(1.3,1.6)\n",
    "ax.set(ylabel='Refractive index', xlabel='Distance from substrate (Å)')"
   ]
  },
  {
   "cell_type": "code",
   "execution_count": null,
   "metadata": {},
   "outputs": [],
   "source": [
    "print(objective)"
   ]
  },
  {
   "cell_type": "code",
   "execution_count": null,
   "metadata": {},
   "outputs": [],
   "source": []
  }
 ],
 "metadata": {
  "kernelspec": {
   "display_name": "Python 3 (ipykernel)",
   "language": "python",
   "name": "python3"
  },
  "language_info": {
   "codemirror_mode": {
    "name": "ipython",
    "version": 3
   },
   "file_extension": ".py",
   "mimetype": "text/x-python",
   "name": "python",
   "nbconvert_exporter": "python",
   "pygments_lexer": "ipython3",
   "version": "3.8.2"
  }
 },
 "nbformat": 4,
 "nbformat_minor": 4
}
