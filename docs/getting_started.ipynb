{
 "cells": [
  {
   "cell_type": "markdown",
   "metadata": {},
   "source": [
    "# Getting started"
   ]
  },
  {
   "cell_type": "markdown",
   "metadata": {},
   "source": [
    "Here we will briefly demonstrate loading in ellipsometry datasets, creating a model and optimising that model to the dataset. For a more detailed description of model creation, please see the [getting started](https://refnx.readthedocs.io/en/latest/getting_started.html) tutorial on *refnx*."
   ]
  },
  {
   "cell_type": "markdown",
   "metadata": {},
   "source": [
    "## Fitting an ellipsometry dataset"
   ]
  },
  {
   "cell_type": "markdown",
   "metadata": {},
   "source": [
    "We begin by importing all of the relevant packages."
   ]
  },
  {
   "cell_type": "code",
   "execution_count": 6,
   "metadata": {},
   "outputs": [],
   "source": [
    "import os\n",
    "from os.path import join as pjoin\n",
    "import numpy as np\n",
    "import matplotlib.pyplot as plt\n",
    "import scipy\n",
    "\n",
    "import refnx\n",
    "from refnx.analysis import CurveFitter\n",
    "from refnx.reflect import Slab\n",
    "\n",
    "import refellips\n",
    "from refellips.dataSE import DataSE, open_EP4file\n",
    "from refellips.reflect_modelSE import ReflectModelSE\n",
    "from refellips.objectiveSE import ObjectiveSE\n",
    "from refellips.structureSE import RI"
   ]
  },
  {
   "cell_type": "markdown",
   "metadata": {},
   "source": [
    "For reproducibility, it is important to note the versions of software that you're using"
   ]
  },
  {
   "cell_type": "code",
   "execution_count": 7,
   "metadata": {},
   "outputs": [
    {
     "name": "stdout",
     "output_type": "stream",
     "text": [
      "refellips: 0.0.0.dev0+fbffa7c\n",
      "refnx: 0.1.27.dev0+978f997\n",
      "scipy: 1.8.0\n",
      "numpy: 1.21.4\n"
     ]
    }
   ],
   "source": [
    "print(f\"refellips: {refellips.version.version}\\n\"\n",
    "      f\"refnx: {refnx.version.version}\\n\"\n",
    "      f\"scipy: {scipy.version.version}\\n\"\n",
    "      f\"numpy: {np.version.version}\")"
   ]
  },
  {
   "cell_type": "markdown",
   "metadata": {},
   "source": [
    "### Loading a dataset"
   ]
  },
  {
   "cell_type": "markdown",
   "metadata": {},
   "source": [
    "*refellips* has the capability of loading data directly from output files of both Accurion EP3 and EP4 ellipsometers, as well as Horiba ellipsometers using `open_EP4file` and `open_HORIBAfile` respectively.\n",
    "\n",
    "Alternatively, other datasets can be imported using `DataSE`. The file must be formatted to contain four columns: wavelengnth, angle of incidence, psi and delta."
   ]
  },
  {
   "cell_type": "code",
   "execution_count": 8,
   "metadata": {},
   "outputs": [],
   "source": [
    "pth = os.path.dirname(refellips.__file__)\n",
    "dname = 'testData1_11nm_PNIPAM_on_Si_EP4.dat'\n",
    "file_path = pjoin(pth, '../', 'demos', dname)"
   ]
  },
  {
   "cell_type": "markdown",
   "metadata": {},
   "source": [
    "We will now use `DataSE` to import our dataset."
   ]
  },
  {
   "cell_type": "code",
   "execution_count": 9,
   "metadata": {},
   "outputs": [],
   "source": [
    "data = DataSE(data=file_path)"
   ]
  },
  {
   "cell_type": "markdown",
   "metadata": {},
   "source": [
    "### Creating a model for our interface"
   ]
  },
  {
   "cell_type": "markdown",
   "metadata": {},
   "source": [
    "As with *refnx*, `Component` objects are assembled into a `Structure` object which describe the interface. The simplest of these `Component` objects is a `Slab`, which is what we will use here.\n",
    "\n",
    "We begin by loading in dispersion curves which describe the refractive index for each layer within our `Structure` (i.e., for each `Component`). *refellips* offers multiple ways to prescribe the refractive index of a layer. Here we will load in dispersion curves (downloaded as a .csv file from [refractiveindex.info](https://refractiveindex.info/). When providing a dispersion curve, files must contain at least two columns, assumed to be wavelength (in microns) and refractive index. If three columns are provided the third is loaded as the extinction coefficient.\n",
    "\n",
    "Alternatively, users can simply provide the Cauchy parameters ($a$, $b$, $c$) for the material of interest via `RI(A = a, B = , b, C = c)` or for single wavelength measurements the refractive index ($n$) can be provided via `RI(value = n)`."
   ]
  },
  {
   "cell_type": "code",
   "execution_count": 30,
   "metadata": {},
   "outputs": [],
   "source": [
    "si     = RI(pjoin(pth, 'materials/silicon.csv'))\n",
    "sio2   = RI(pjoin(pth, 'materials/silica.csv'))\n",
    "PNIPAM = RI(pjoin(pth, 'materials/pnipam.csv'))\n",
    "air    = RI(pjoin(pth, 'materials/air.csv'))"
   ]
  },
  {
   "cell_type": "markdown",
   "metadata": {},
   "source": [
    "Now we have defined the refractive indices of our layers, we can create a `Slab` object for each interfacial layer."
   ]
  },
  {
   "cell_type": "code",
   "execution_count": 32,
   "metadata": {},
   "outputs": [],
   "source": [
    "# this is a 20 Angstrom layer\n",
    "silica_layer = sio2(20)\n",
    "\n",
    "polymer_layer = PNIPAM(200)"
   ]
  },
  {
   "cell_type": "markdown",
   "metadata": {},
   "source": [
    "Each `Slab` has an associated thickness (as defined above), roughness, and volume fraction of solvent. As this is a dry film we will leave vfsolv as 0."
   ]
  },
  {
   "cell_type": "code",
   "execution_count": 33,
   "metadata": {},
   "outputs": [],
   "source": [
    "silica_layer.name = 'Silica'\n",
    "silica_layer.thick.setp(vary=True, bounds=(1, 30))\n",
    "silica_layer.vfsolv.setp(vary=False, value=0)\n",
    "\n",
    "polymer_layer.name = 'PNIPAM'\n",
    "polymer_layer.thick.setp(vary=True, bounds=(100, 500))\n",
    "polymer_layer.vfsolv.setp(vary=False, value=0)"
   ]
  },
  {
   "cell_type": "markdown",
   "metadata": {},
   "source": [
    "We now create the `Structure` by assembling the `Component` objects. Our structure is defined from top to bottom."
   ]
  },
  {
   "cell_type": "code",
   "execution_count": 34,
   "metadata": {},
   "outputs": [],
   "source": [
    "structure = air(np.inf) | polymer_layer | silica_layer | si(np.inf)"
   ]
  },
  {
   "cell_type": "markdown",
   "metadata": {},
   "source": [
    "Finally, we can create our model. A wavelength must be provided here, however, if your ellipsometry dataset contains a wavelength that will be automatically used. We have the option to define the `DeltaOffset` parameter here."
   ]
  },
  {
   "cell_type": "code",
   "execution_count": 37,
   "metadata": {},
   "outputs": [],
   "source": [
    "model = ReflectModelSE(structure)\n",
    "\n",
    "model.DeltaOffset.setp(value=0, vary=False, bounds=(-10, 10))"
   ]
  },
  {
   "cell_type": "markdown",
   "metadata": {},
   "source": [
    "We can now have a quick preview of how our model compares to our dataset prior to fitting."
   ]
  },
  {
   "cell_type": "code",
   "execution_count": 42,
   "metadata": {},
   "outputs": [
    {
     "data": {
      "image/png": "[encoded data removed]",
      "text/plain": [
       "<Figure size 432x288 with 2 Axes>"
      ]
     },
     "metadata": {
      "needs_background": "light"
     },
     "output_type": "display_data"
    }
   ],
   "source": [
    "fig, ax = plt.subplots()\n",
    "axt = ax.twinx()\n",
    "\n",
    "aois = np.linspace(50, 75, 100)\n",
    "\n",
    "for dat in data.unique_wavelength_data():\n",
    "    wavelength, aois, psi_d, delta_d = dat\n",
    "    wavelength_aois = np.c_[np.ones_like(aois) * wavelength, aois]\n",
    "    \n",
    "    psi, delta = model(wavelength_aois)\n",
    "    ax.plot(aois, psi, color='r')\n",
    "    p = ax.scatter(data.aoi, data.psi, color='r')\n",
    "\n",
    "    axt.plot(aois, delta, color='b')\n",
    "    d = axt.scatter(data.aoi, data.delta, color='b')\n",
    "\n",
    "ax.legend(handles=[p,d], labels=['Psi', 'Delta'])\n",
    "ax.set(ylabel='Psi', xlabel='AOI, °')\n",
    "axt.set(ylabel='Delta')\n",
    "plt.show()"
   ]
  },
  {
   "cell_type": "markdown",
   "metadata": {},
   "source": [
    "### Creating an objective"
   ]
  },
  {
   "cell_type": "markdown",
   "metadata": {},
   "source": [
    "We will now create an objective. The `Objective` obeject is made from combining the model and the data, and is used to calculate statistics during the fitting process."
   ]
  },
  {
   "cell_type": "code",
   "execution_count": 43,
   "metadata": {},
   "outputs": [],
   "source": [
    "objective = ObjectiveSE(model, data)"
   ]
  },
  {
   "cell_type": "markdown",
   "metadata": {},
   "source": [
    "### Fitting the data"
   ]
  },
  {
   "cell_type": "markdown",
   "metadata": {},
   "source": [
    "The optimisation of our `Objective` is performed by *refnx*'s `CurveFitter`. Data can be fit using a local optimisation such as `least_squares`, or a more global optimisation technique such as `differential_evolution`. For more infomation on the available fitting methods, see [*refnx*](https://refnx.readthedocs.io/en/latest/refnx.analysis.html#refnx.analysis.CurveFitter.fit)."
   ]
  },
  {
   "cell_type": "code",
   "execution_count": 44,
   "metadata": {},
   "outputs": [],
   "source": [
    "fitter = CurveFitter(objective)\n",
    "fitter.fit(method='least_squares');"
   ]
  },
  {
   "cell_type": "markdown",
   "metadata": {},
   "source": [
    "### Optimised model and data post fit"
   ]
  },
  {
   "cell_type": "markdown",
   "metadata": {},
   "source": [
    "We can now view our optimised objective, including our fit parameters."
   ]
  },
  {
   "cell_type": "code",
   "execution_count": 45,
   "metadata": {},
   "outputs": [
    {
     "data": {
      "image/png": "[encoded data removed]",
      "text/plain": [
       "<Figure size 432x288 with 2 Axes>"
      ]
     },
     "metadata": {
      "needs_background": "light"
     },
     "output_type": "display_data"
    }
   ],
   "source": [
    "fig, ax = plt.subplots()\n",
    "axt = ax.twinx()\n",
    "\n",
    "aois = np.linspace(50,75,100)\n",
    "\n",
    "for dat in data.unique_wavelength_data():\n",
    "    wavelength, aois, psi_d, delta_d = dat\n",
    "    wavelength_aois = np.c_[np.ones_like(aois) * wavelength, aois]\n",
    "    \n",
    "    psi, delta = model(wavelength_aois)\n",
    "\n",
    "    ax.plot(aois, psi, color='r')\n",
    "    p = ax.scatter(data.aoi, data.psi, color='r')\n",
    "\n",
    "    axt.plot(aois, delta, color='b')\n",
    "    d = axt.scatter(data.aoi, data.delta, color='b')\n",
    "\n",
    "ax.legend(handles=[p,d], labels=['Psi', 'Delta'])\n",
    "ax.set(ylabel='Psi', xlabel='AOI, °')\n",
    "axt.set(ylabel='Delta')\n",
    "plt.show()"
   ]
  },
  {
   "cell_type": "code",
   "execution_count": 48,
   "metadata": {},
   "outputs": [
    {
     "name": "stdout",
     "output_type": "stream",
     "text": [
      "________________________________________________________________________________\n",
      "Parameters: 'instrument parameters'\n",
      "<Parameter:'delta offset' , value=0 (fixed)  , bounds=[-10.0, 10.0]>\n",
      "________________________________________________________________________________\n",
      "Parameters: 'Structure - ' \n",
      "________________________________________________________________________________\n",
      "Parameters:       ''       \n",
      "<Parameter:  ' - thick'   , value=inf (fixed)  , bounds=[-inf, inf]>\n",
      "<Parameter:  ' - rough'   , value=0 (fixed)  , bounds=[-inf, inf]>\n",
      "<Parameter:' - volfrac solvent', value=0 (fixed)  , bounds=[0.0, 1.0]>\n",
      "________________________________________________________________________________\n",
      "Parameters:    'PNIPAM'    \n",
      "<Parameter:  ' - thick'   , value=130.05  +/- 329 , bounds=[100.0, 500.0]>\n",
      "<Parameter:  ' - rough'   , value=0 (fixed)  , bounds=[-inf, inf]>\n",
      "<Parameter:' - volfrac solvent', value=0 (fixed)  , bounds=[0.0, 1.0]>\n",
      "________________________________________________________________________________\n",
      "Parameters:    'Silica'    \n",
      "<Parameter:  ' - thick'   , value=1  +/- 343 , bounds=[1.0, 30.0]>\n",
      "<Parameter:  ' - rough'   , value=0 (fixed)  , bounds=[-inf, inf]>\n",
      "<Parameter:' - volfrac solvent', value=0 (fixed)  , bounds=[0.0, 1.0]>\n",
      "________________________________________________________________________________\n",
      "Parameters:       ''       \n",
      "<Parameter:  ' - thick'   , value=inf (fixed)  , bounds=[-inf, inf]>\n",
      "<Parameter:  ' - rough'   , value=0 (fixed)  , bounds=[-inf, inf]>\n",
      "<Parameter:' - volfrac solvent', value=0 (fixed)  , bounds=[0.0, 1.0]>\n"
     ]
    }
   ],
   "source": [
    "for i, x in enumerate(objective.model.parameters):\n",
    "    print(x)\n",
    "# print(objective)"
   ]
  },
  {
   "cell_type": "markdown",
   "metadata": {},
   "source": [
    "We can also view the resultant refractive index profile of the interface as well. N.B. as this section of the codebase belongs to *refnx*, we refer to the refractive index profile as the `sld_profile`."
   ]
  },
  {
   "cell_type": "code",
   "execution_count": null,
   "metadata": {},
   "outputs": [],
   "source": [
    "structure.reverse_structure = True\n",
    "plt.plot(*structure.sld_profile())"
   ]
  },
  {
   "cell_type": "markdown",
   "metadata": {},
   "source": [
    "### Saving the objective"
   ]
  },
  {
   "cell_type": "markdown",
   "metadata": {},
   "source": [
    "If you would like to save the `Objective` or model to a file, this is best done through serialisationo to a Python pickle."
   ]
  },
  {
   "cell_type": "code",
   "execution_count": null,
   "metadata": {},
   "outputs": [],
   "source": [
    "import pickle\n",
    "pickle.dump(objective, open('my_objective.pkl', 'wb'))"
   ]
  },
  {
   "cell_type": "markdown",
   "metadata": {},
   "source": [
    "You can then simply reload your objective."
   ]
  },
  {
   "cell_type": "code",
   "execution_count": null,
   "metadata": {},
   "outputs": [],
   "source": [
    "objective = pickle.load(open('my_objective.pkl', 'rb'))"
   ]
  }
 ],
 "metadata": {
  "kernelspec": {
   "display_name": "Python 3 (ipykernel)",
   "language": "python",
   "name": "python3"
  },
  "language_info": {
   "codemirror_mode": {
    "name": "ipython",
    "version": 3
   },
   "file_extension": ".py",
   "mimetype": "text/x-python",
   "name": "python",
   "nbconvert_exporter": "python",
   "pygments_lexer": "ipython3",
   "version": "3.9.7"
  }
 },
 "nbformat": 4,
 "nbformat_minor": 4
}
